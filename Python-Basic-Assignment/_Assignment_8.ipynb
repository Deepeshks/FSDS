{
 "cells": [
  {
   "cell_type": "raw",
   "metadata": {},
   "source": [
    "1. Is the Python Standard Library included with PyInputPlus?\n",
    "2. Why is PyInputPlus commonly imported with import pyinputplus as pypi?\n",
    "3. How do you distinguish between inputInt() and inputFloat()?\n",
    "4. Using PyInputPlus, how do you ensure that the user enters a whole number between 0 and 99?\n",
    "5. What is transferred to the keyword arguments allowRegexes and blockRegexes?\n",
    "6. If a blank input is entered three times, what does inputStr(limit=3) do?\n",
    "7. If blank input is entered three times, what does inputStr(limit=3, default='hello') do?\n"
   ]
  },
  {
   "cell_type": "markdown",
   "metadata": {},
   "source": [
    "1. Is the Python Standard Library included with PyInputPlus?\n",
    "\n",
    "Ans: No it is a separate module which needs to be installed with pip"
   ]
  },
  {
   "cell_type": "markdown",
   "metadata": {},
   "source": [
    "2. Why is PyInputPlus commonly imported with import pyinputplus as pypi?\n",
    "\n",
    "Ans: because pyinputplus is a large name to type so we alias it as pyip"
   ]
  },
  {
   "cell_type": "markdown",
   "metadata": {},
   "source": [
    "3. How do you distinguish between inputInt() and inputFloat()?\n",
    "\n",
    "Ans: inputInt() will complain that the entered number is not integer when we enter a floating point number.\n",
    "The inputInt() function returns an integer, while the inputFloat() function returns a float value."
   ]
  },
  {
   "cell_type": "markdown",
   "metadata": {},
   "source": [
    "4. Using PyInputPlus, how do you ensure that the user enters a whole number between 0 and 99?\n",
    "\n",
    "Ans: pypi.inputInt('Enter a whole number between 0 and 99', min=0, max=99)"
   ]
  },
  {
   "cell_type": "markdown",
   "metadata": {},
   "source": [
    "5. What is transferred to the keyword arguments allowRegexes and blockRegexes?\n",
    "\n",
    "Ans: allowRegexes allows us to include a pattern which is allowed where as in blockRegexes  we pass a pattern which is not allowed and all other characters other than the blockRegexes is allowed"
   ]
  },
  {
   "cell_type": "markdown",
   "metadata": {},
   "source": [
    "6. If a blank input is entered three times, what does inputStr(limit=3) do?\n",
    "\n",
    "Ans: It will give us a RetryLimitException."
   ]
  },
  {
   "cell_type": "markdown",
   "metadata": {},
   "source": [
    "7. If blank input is entered three times, what does inputStr(limit=3, default='hello') do?\n",
    "\n",
    "Ans: It will print hello after the limit expires"
   ]
  }
 ],
 "metadata": {
  "kernelspec": {
   "display_name": "Python 3",
   "language": "python",
   "name": "python3"
  },
  "language_info": {
   "codemirror_mode": {
    "name": "ipython",
    "version": 3
   },
   "file_extension": ".py",
   "mimetype": "text/x-python",
   "name": "python",
   "nbconvert_exporter": "python",
   "pygments_lexer": "ipython3",
   "version": "3.8.5"
  }
 },
 "nbformat": 4,
 "nbformat_minor": 4
}
